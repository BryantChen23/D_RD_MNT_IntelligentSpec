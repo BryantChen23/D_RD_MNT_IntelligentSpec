{
 "cells": [
  {
   "cell_type": "code",
   "execution_count": 1,
   "metadata": {},
   "outputs": [],
   "source": [
    "from openpyxl import load_workbook\n",
    "from docx import Document"
   ]
  },
  {
   "cell_type": "code",
   "execution_count": 11,
   "metadata": {},
   "outputs": [],
   "source": [
    "def read_excel_data(filename):\n",
    "    workbook = load_workbook(filename)\n",
    "    sheet = workbook.active\n",
    "    data = []\n",
    "    for row in sheet.iter_rows(values_only=True):\n",
    "        data.append(row)\n",
    "    return data"
   ]
  },
  {
   "cell_type": "code",
   "execution_count": 34,
   "metadata": {},
   "outputs": [],
   "source": [
    "def write_to_word(data, output_filename):\n",
    "    document = Document()\n",
    "    for row in data:\n",
    "        val = str(row[0]) + \":\" + str(row[1])\n",
    "        document.add_paragraph(val)\n",
    "    document.save(output_filename)"
   ]
  },
  {
   "cell_type": "code",
   "execution_count": 35,
   "metadata": {},
   "outputs": [],
   "source": [
    "# 以表格行是進行存放\n",
    "# def write_to_word(data, output_filename):\n",
    "#     document = Document()\n",
    "#     for row in data:\n",
    "#         table = document.add_table(rows=1, cols=len(row))\n",
    "#         table.autofit = True\n",
    "#         hdr_cells = table.rows[0].cells\n",
    "#         for idx, value in enumerate(row):\n",
    "#             hdr_cells[idx].text = str(value)\n",
    "#     document.save(output_filename)\n"
   ]
  },
  {
   "cell_type": "code",
   "execution_count": 36,
   "metadata": {},
   "outputs": [
    {
     "name": "stdout",
     "output_type": "stream",
     "text": [
      "Excel data has been successfully converted to Word.\n"
     ]
    }
   ],
   "source": [
    "path = \"C:/Users/USER/Desktop/HonHai_D/Digital Platform/SIS_DS/Projects/GenAI_Research/POC_Project/RD_MNT_智能化規格文件彙總/POC/\"\n",
    "excel_filename = path + \"POC_GGYY234.xlsx\"\n",
    "word_filename = path + \"POC_GGYY234.docx\"\n",
    "\n",
    "excel_data = read_excel_data(excel_filename)\n",
    "write_to_word(excel_data, word_filename)\n",
    "print(\"Excel data has been successfully converted to Word.\")\n"
   ]
  },
  {
   "cell_type": "code",
   "execution_count": null,
   "metadata": {},
   "outputs": [],
   "source": []
  }
 ],
 "metadata": {
  "kernelspec": {
   "display_name": "Python 3",
   "language": "python",
   "name": "python3"
  },
  "language_info": {
   "codemirror_mode": {
    "name": "ipython",
    "version": 3
   },
   "file_extension": ".py",
   "mimetype": "text/x-python",
   "name": "python",
   "nbconvert_exporter": "python",
   "pygments_lexer": "ipython3",
   "version": "3.10.6"
  }
 },
 "nbformat": 4,
 "nbformat_minor": 2
}
